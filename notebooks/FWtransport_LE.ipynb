{
 "cells": [
  {
   "cell_type": "code",
   "execution_count": 10,
   "id": "ff54b98d-c5f7-4a4e-90ce-05a77f9f185c",
   "metadata": {},
   "outputs": [],
   "source": [
    "import coast\n",
    "import xarray as xr\n",
    "import matplotlib.pyplot as plt\n",
    "import glob"
   ]
  },
  {
   "cell_type": "code",
   "execution_count": 2,
   "id": "475b4237-b745-462e-bdb0-b50795586fbb",
   "metadata": {},
   "outputs": [
    {
     "ename": "ValueError",
     "evalue": "No JupyterHub API token provided, and JUPYTERHUB_API_TOKEN environment variable not found",
     "output_type": "error",
     "traceback": [
      "\u001b[0;31m---------------------------------------------------------------------------\u001b[0m",
      "\u001b[0;31mValueError\u001b[0m                                Traceback (most recent call last)",
      "Cell \u001b[0;32mIn[2], line 3\u001b[0m\n\u001b[1;32m      1\u001b[0m \u001b[38;5;28;01mimport\u001b[39;00m \u001b[38;5;21;01mdask_gateway\u001b[39;00m\n\u001b[1;32m      2\u001b[0m \u001b[38;5;66;03m# Create a connection to dask-gateway.\u001b[39;00m\n\u001b[0;32m----> 3\u001b[0m gw \u001b[38;5;241m=\u001b[39m \u001b[43mdask_gateway\u001b[49m\u001b[38;5;241;43m.\u001b[39;49m\u001b[43mGateway\u001b[49m\u001b[43m(\u001b[49m\u001b[38;5;124;43m\"\u001b[39;49m\u001b[38;5;124;43mhttps://dask-gateway.jasmin.ac.uk\u001b[39;49m\u001b[38;5;124;43m\"\u001b[39;49m\u001b[43m,\u001b[49m\u001b[43m \u001b[49m\u001b[43mauth\u001b[49m\u001b[38;5;241;43m=\u001b[39;49m\u001b[38;5;124;43m\"\u001b[39;49m\u001b[38;5;124;43mjupyterhub\u001b[39;49m\u001b[38;5;124;43m\"\u001b[39;49m\u001b[43m)\u001b[49m\n\u001b[1;32m      5\u001b[0m \u001b[38;5;66;03m# Inspect and change the options if required before creating your cluster.\u001b[39;00m\n\u001b[1;32m      6\u001b[0m options \u001b[38;5;241m=\u001b[39m gw\u001b[38;5;241m.\u001b[39mcluster_options()\n",
      "File \u001b[0;32m~/.conda/envs/canari-dask-mine/lib/python3.10/site-packages/dask_gateway/client.py:321\u001b[0m, in \u001b[0;36mGateway.__init__\u001b[0;34m(self, address, proxy_address, public_address, auth, asynchronous, loop)\u001b[0m\n\u001b[1;32m    318\u001b[0m \u001b[38;5;28mself\u001b[39m\u001b[38;5;241m.\u001b[39m_public_address \u001b[38;5;241m=\u001b[39m public_address\n\u001b[1;32m    319\u001b[0m \u001b[38;5;28mself\u001b[39m\u001b[38;5;241m.\u001b[39mproxy_address \u001b[38;5;241m=\u001b[39m proxy_address\n\u001b[0;32m--> 321\u001b[0m \u001b[38;5;28mself\u001b[39m\u001b[38;5;241m.\u001b[39mauth \u001b[38;5;241m=\u001b[39m \u001b[43mget_auth\u001b[49m\u001b[43m(\u001b[49m\u001b[43mauth\u001b[49m\u001b[43m)\u001b[49m\n\u001b[1;32m    322\u001b[0m \u001b[38;5;28mself\u001b[39m\u001b[38;5;241m.\u001b[39m_session \u001b[38;5;241m=\u001b[39m \u001b[38;5;28;01mNone\u001b[39;00m\n\u001b[1;32m    324\u001b[0m \u001b[38;5;28mself\u001b[39m\u001b[38;5;241m.\u001b[39m_asynchronous \u001b[38;5;241m=\u001b[39m asynchronous\n",
      "File \u001b[0;32m~/.conda/envs/canari-dask-mine/lib/python3.10/site-packages/dask_gateway/auth.py:52\u001b[0m, in \u001b[0;36mget_auth\u001b[0;34m(auth)\u001b[0m\n\u001b[1;32m     50\u001b[0m auth_kwargs \u001b[38;5;241m=\u001b[39m dask\u001b[38;5;241m.\u001b[39mconfig\u001b[38;5;241m.\u001b[39mget(\u001b[38;5;124m\"\u001b[39m\u001b[38;5;124mgateway.auth.kwargs\u001b[39m\u001b[38;5;124m\"\u001b[39m, \u001b[38;5;28;01mNone\u001b[39;00m) \u001b[38;5;129;01mor\u001b[39;00m {}\n\u001b[1;32m     51\u001b[0m auth_kwargs \u001b[38;5;241m=\u001b[39m {k: format_template(v) \u001b[38;5;28;01mfor\u001b[39;00m k, v \u001b[38;5;129;01min\u001b[39;00m auth_kwargs\u001b[38;5;241m.\u001b[39mitems()}\n\u001b[0;32m---> 52\u001b[0m out \u001b[38;5;241m=\u001b[39m \u001b[43mauth\u001b[49m\u001b[43m(\u001b[49m\u001b[38;5;241;43m*\u001b[39;49m\u001b[38;5;241;43m*\u001b[39;49m\u001b[43mauth_kwargs\u001b[49m\u001b[43m)\u001b[49m\n\u001b[1;32m     54\u001b[0m \u001b[38;5;28;01mif\u001b[39;00m \u001b[38;5;129;01mnot\u001b[39;00m \u001b[38;5;28misinstance\u001b[39m(out, GatewayAuth):\n\u001b[1;32m     55\u001b[0m     \u001b[38;5;28;01mraise\u001b[39;00m \u001b[38;5;167;01mTypeError\u001b[39;00m(\u001b[38;5;124m\"\u001b[39m\u001b[38;5;124mauth must be instance of GatewayAuth, got \u001b[39m\u001b[38;5;132;01m%r\u001b[39;00m\u001b[38;5;124m\"\u001b[39m \u001b[38;5;241m%\u001b[39m out)\n",
      "File \u001b[0;32m~/.conda/envs/canari-dask-mine/lib/python3.10/site-packages/dask_gateway/auth.py:158\u001b[0m, in \u001b[0;36mJupyterHubAuth.__init__\u001b[0;34m(self, api_token)\u001b[0m\n\u001b[1;32m    156\u001b[0m     api_token \u001b[38;5;241m=\u001b[39m os\u001b[38;5;241m.\u001b[39menviron\u001b[38;5;241m.\u001b[39mget(\u001b[38;5;124m\"\u001b[39m\u001b[38;5;124mJUPYTERHUB_API_TOKEN\u001b[39m\u001b[38;5;124m\"\u001b[39m)\n\u001b[1;32m    157\u001b[0m     \u001b[38;5;28;01mif\u001b[39;00m api_token \u001b[38;5;129;01mis\u001b[39;00m \u001b[38;5;28;01mNone\u001b[39;00m:\n\u001b[0;32m--> 158\u001b[0m         \u001b[38;5;28;01mraise\u001b[39;00m \u001b[38;5;167;01mValueError\u001b[39;00m(\n\u001b[1;32m    159\u001b[0m             \u001b[38;5;124m\"\u001b[39m\u001b[38;5;124mNo JupyterHub API token provided, and JUPYTERHUB_API_TOKEN \u001b[39m\u001b[38;5;124m\"\u001b[39m\n\u001b[1;32m    160\u001b[0m             \u001b[38;5;124m\"\u001b[39m\u001b[38;5;124menvironment variable not found\u001b[39m\u001b[38;5;124m\"\u001b[39m\n\u001b[1;32m    161\u001b[0m         )\n\u001b[1;32m    162\u001b[0m \u001b[38;5;28mself\u001b[39m\u001b[38;5;241m.\u001b[39mapi_token \u001b[38;5;241m=\u001b[39m api_token\n",
      "\u001b[0;31mValueError\u001b[0m: No JupyterHub API token provided, and JUPYTERHUB_API_TOKEN environment variable not found"
     ]
    }
   ],
   "source": [
    "import dask_gateway\n",
    "# Create a connection to dask-gateway.\n",
    "gw = dask_gateway.Gateway(\"https://dask-gateway.jasmin.ac.uk\", auth=\"jupyterhub\")\n",
    "\n",
    "# Inspect and change the options if required before creating your cluster.\n",
    "options = gw.cluster_options()\n",
    "options.worker_cores = 1 #keeping this at 1 and allowing 15 worker processes seems to run faster than the other way around\n",
    "options.scheduler_cores = 1 #we need at least one core for the scheduler\n",
    "#specify which conda env to use, this must match the versions of python and dask (and a few other libraries) used on the notebook service\n",
    "options.worker_setup='source /apps/jasmin/jaspy/mambaforge_envs/jaspy3.10/mf-22.11.1-4/bin/activate /gws/smf/j04/canari/dask-env'\n",
    "\n",
    "# Create a dask cluster, or, if one already exists, connect to it.\n",
    "# This stage creates the scheduler job in SLURM, so may take some time.\n",
    "# While your job queues.\n",
    "clusters = gw.list_clusters()\n",
    "if not clusters:\n",
    "    cluster = gw.new_cluster(options, shutdown_on_close=False)\n",
    "else:\n",
    "    cluster = gw.connect(clusters[0].name)\n",
    "\n",
    "# Create at least one worker, and allow your cluster to scale to 15.\n",
    "# The max JASMIN allows is 16, but one of these is used as the scheduler.\n",
    "cluster.adapt(minimum=1, maximum=15)\n",
    "\n",
    "# Get a dask client.\n",
    "client = cluster.get_client()"
   ]
  },
  {
   "cell_type": "code",
   "execution_count": null,
   "id": "4da99abf-f5dd-4899-b5e7-eb7a6d305967",
   "metadata": {},
   "outputs": [],
   "source": [
    "client"
   ]
  },
  {
   "cell_type": "code",
   "execution_count": 3,
   "id": "cec76574-6c8a-444e-8ced-3ce097d17a2d",
   "metadata": {},
   "outputs": [
    {
     "name": "stderr",
     "output_type": "stream",
     "text": [
      "/home/users/eboland/.conda/envs/canari-dask-mine/lib/python3.10/site-packages/coast/data/gridded.py:236: UserWarning: The model domain loaded, '/gws/nopw/j04/canari/users/dlrhodso/mesh_mask.nc', does not contain the bathy_metry' variable. This will result in the NEMO.dataset.bathymetry variable being set to zero, which may result in unexpected behaviour from routines that require this variable.\n"
     ]
    }
   ],
   "source": [
    "nemo_dom = \"/gws/nopw/j04/canari/users/dlrhodso/mesh_mask.nc\"\n",
    "\n",
    "config_grid={}\n",
    "config_dir=\"../../tutorials/config\"\n",
    "for grid in ['t','f','u','v']:\n",
    "    config_grid[grid]=f'{config_dir}/example_nemo_grid_{grid}.json'\n",
    "\n",
    "nemo_f = coast.Gridded( fn_domain=nemo_dom, config=config_grid['f'])"
   ]
  },
  {
   "cell_type": "code",
   "execution_count": 24,
   "id": "2b8e8d13-3713-439d-acc8-1a27e8519862",
   "metadata": {},
   "outputs": [],
   "source": [
    "Sref=34.8"
   ]
  },
  {
   "cell_type": "code",
   "execution_count": null,
   "id": "b323182a-0454-4958-92a5-9e623baa015c",
   "metadata": {},
   "outputs": [
    {
     "name": "stdout",
     "output_type": "stream",
     "text": [
      "Ensemble 1\n",
      "File for 1 exists, skipping\n",
      "Ensemble 10\n",
      "File for 10 exists, skipping\n",
      "Ensemble 11\n"
     ]
    },
    {
     "name": "stderr",
     "output_type": "stream",
     "text": [
      "/home/users/eboland/.conda/envs/canari-dask-mine/lib/python3.10/site-packages/coast/data/gridded.py:236: UserWarning: The model domain loaded, '/gws/nopw/j04/canari/users/dlrhodso/mesh_mask.nc', does not contain the bathy_metry' variable. This will result in the NEMO.dataset.bathymetry variable being set to zero, which may result in unexpected behaviour from routines that require this variable.\n",
      "/home/users/eboland/.conda/envs/canari-dask-mine/lib/python3.10/site-packages/coast/data/gridded.py:236: UserWarning: The model domain loaded, '/gws/nopw/j04/canari/users/dlrhodso/mesh_mask.nc', does not contain the bathy_metry' variable. This will result in the NEMO.dataset.bathymetry variable being set to zero, which may result in unexpected behaviour from routines that require this variable.\n"
     ]
    }
   ],
   "source": [
    "transect_name='GreenlandNorway'\n",
    "transect_coords=((70,-22),(70,18))\n",
    "tran_f=coast.TransectF(nemo_f,transect_coords[0],transect_coords[1])\n",
    "\n",
    "data_path = \"/gws/nopw/j04/canari/shared/large-ensemble/priority/HIST2\"\n",
    "ensembles=glob.glob(f'{data_path}/*')\n",
    "for ens_file in ensembles:\n",
    "#ens_file=ensembles[0]\n",
    "    ens=int(ens_file.split('/')[-1])\n",
    "    print(f'Ensemble {ens}')\n",
    "    ens_data_path=f'{data_path}/{ens}/OCN/yearly'\n",
    "    fout=f'../data/FWtransport_{transect_name}_{ens:02.0f}'\n",
    "    if glob.glob(fout):\n",
    "        print(f'File for {ens} exists, skipping')\n",
    "        continue\n",
    "    else:\n",
    "        data_ufw_all=[]\n",
    "        data_vfw_all=[]\n",
    "        for year in range(2000,2015):\n",
    "            year_data_path=f'{ens_data_path}/{year}'\n",
    "            t_data_u = xr.open_mfdataset(f\"{year_data_path}/*_mon__grid_U_vozocrtx.nc\")\n",
    "            t_data_us= xr.open_mfdataset(f\"{year_data_path}/*_mon__grid_U_us.nc\")\n",
    "            t_data_e3u = xr.open_mfdataset(f\"{year_data_path}/*_mon__grid_U_e3u.nc\")\n",
    "            ufw=(t_data_us.us-Sref*t_data_u.vozocrtx)/Sref\n",
    "            ufw.name='uo'\n",
    "            t_data_ufw=ufw.to_dataset()\n",
    "            t_data_ufw['e3']=t_data_e3u.e3u\n",
    "            data_ufw_all.append(t_data_ufw)\n",
    "            \n",
    "            t_data_v = xr.open_mfdataset(f\"{year_data_path}/*_mon__grid_V_vomecrty.nc\")\n",
    "            t_data_vs= xr.open_mfdataset(f\"{year_data_path}/*_mon__grid_V_vs.nc\")\n",
    "            t_data_e3v = xr.open_mfdataset(f\"{year_data_path}/*_mon__grid_V_e3v.nc\")\n",
    "            vfw=(t_data_vs.vs-Sref*t_data_v.vomecrty)/Sref\n",
    "            vfw.name='vo'\n",
    "            t_data_vfw=vfw.to_dataset()\n",
    "            t_data_vfw['e3']=t_data_e3v.e3v\n",
    "            data_vfw_all.append(t_data_vfw)\n",
    "            \n",
    "        nemo_v = coast.Gridded(fn_data=xr.concat(data_vfw_all,'time_counter'), fn_domain=nemo_dom, config=config_grid['v'])\n",
    "        nemo_u = coast.Gridded(fn_data=xr.concat(data_ufw_all,'time_counter'), fn_domain=nemo_dom, config=config_grid['u'])\n",
    "        tran_f.calc_flow_across_transect(nemo_u, nemo_v)\n",
    "        transports=tran_f.data_cross_tran_flow.normal_transports.sum('r_dim')\n",
    "        transports.to_netcdf(fout)"
   ]
  },
  {
   "cell_type": "code",
   "execution_count": null,
   "id": "069e9216-31bf-4766-a9d0-0cfc2c58c8d5",
   "metadata": {},
   "outputs": [],
   "source": []
  }
 ],
 "metadata": {
  "kernelspec": {
   "display_name": "CANARI-dask-mine",
   "language": "python",
   "name": "canari-dask-mine"
  },
  "language_info": {
   "codemirror_mode": {
    "name": "ipython",
    "version": 3
   },
   "file_extension": ".py",
   "mimetype": "text/x-python",
   "name": "python",
   "nbconvert_exporter": "python",
   "pygments_lexer": "ipython3",
   "version": "3.10.12"
  }
 },
 "nbformat": 4,
 "nbformat_minor": 5
}
